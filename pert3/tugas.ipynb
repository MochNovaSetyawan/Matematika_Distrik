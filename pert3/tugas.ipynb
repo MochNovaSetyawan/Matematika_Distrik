{
 "cells": [
  {
   "cell_type": "code",
   "execution_count": 11,
   "metadata": {},
   "outputs": [],
   "source": [
    "class kategori_nilai:\n",
    "    def __init__(self, Nilai):\n",
    "        self.Nilai = Nilai\n",
    "\n",
    "    def function(self):\n",
    "        if 85 <= self.Nilai <= 100:\n",
    "            return \"A\"\n",
    "        elif 75 <= self.Nilai <= 84:\n",
    "            return \"B\"\n",
    "        elif 64 <= self.Nilai <= 74:\n",
    "            return \"C\"\n",
    "        elif 54 <= self.Nilai <= 63:\n",
    "            return \"D\"\n",
    "        elif self.Nilai < 54:\n",
    "            return \"E\"\n",
    "        else:\n",
    "            return \"Nilai di luar rentang yang ditentukan\"\n",
    "\n",
    "    def Tampilan_Info(self):\n",
    "        print(f\"Nilai yang didapat adalah: {self.Nilai}\")\n",
    "        print(f\"Nilai yang didapat adalah: {self.function()}\")\n",
    "\n",
    "    def Tampilan_Input(self):\n",
    "        self.Nilai = int(input(\"Berapa nilai Anda: \"))\n"
   ]
  },
  {
   "cell_type": "code",
   "execution_count": 12,
   "metadata": {},
   "outputs": [
    {
     "name": "stdout",
     "output_type": "stream",
     "text": [
      "Nilai yang didapat adalah: A\n"
     ]
    }
   ],
   "source": [
    "nilai_mahasiswa = kategori_nilai(0)\n",
    "nilai_mahasiswa.Tampilan_Input()\n",
    "nilai_mahasiswa.Tampilan_Info()"
   ]
  }
 ],
 "metadata": {
  "kernelspec": {
   "display_name": "Python 3",
   "language": "python",
   "name": "python3"
  },
  "language_info": {
   "codemirror_mode": {
    "name": "ipython",
    "version": 3
   },
   "file_extension": ".py",
   "mimetype": "text/x-python",
   "name": "python",
   "nbconvert_exporter": "python",
   "pygments_lexer": "ipython3",
   "version": "3.10.12"
  }
 },
 "nbformat": 4,
 "nbformat_minor": 2
}
